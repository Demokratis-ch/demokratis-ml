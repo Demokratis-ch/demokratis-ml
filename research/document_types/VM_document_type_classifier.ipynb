{
 "cells": [
  {
   "cell_type": "markdown",
   "metadata": {},
   "source": [
    "# Setup"
   ]
  },
  {
   "cell_type": "code",
   "execution_count": 1,
   "metadata": {},
   "outputs": [
    {
     "name": "stdout",
     "output_type": "stream",
     "text": [
      "env: MLFLOW_TRACKING_URI=sqlite:///mlruns.db\n"
     ]
    }
   ],
   "source": [
    "DATA_FILE_NAME = \"consultation-documents-preprocessed-2025-01-06.parquet\"\n",
    "\n",
    "DOCUMENT_SOURCES = {\n",
    "    \"fedlex\",\n",
    "    # \"openparldata\",\n",
    "}\n",
    "LANGUAGES = {\n",
    "    \"de\",\n",
    "    # \"fr\",\n",
    "    # \"it\",\n",
    "}\n",
    "\n",
    "# EMBEDDING_MODEL = \"openai/text-embedding-ada-002\"\n",
    "EMBEDDING_MODEL = \"openai/text-embedding-3-large\"\n",
    "\n",
    "# FROM_YEAR = 2010\n",
    "FROM_YEAR = 2000\n",
    "\n",
    "CV_FOLDS = 5\n",
    "TEST_SIZE = 0.1\n",
    "RANDOM_STATE = 2718\n",
    "USE_TEST_SET = True\n",
    "\n",
    "%env MLFLOW_TRACKING_URI=sqlite:///mlruns.db"
   ]
  },
  {
   "cell_type": "code",
   "execution_count": 2,
   "metadata": {},
   "outputs": [],
   "source": [
    "%load_ext autoreload\n",
    "%autoreload 2\n",
    "\n",
    "import logging\n",
    "import pathlib\n",
    "import sys\n",
    "from typing import Any\n",
    "\n",
    "import dotenv\n",
    "import mlflow\n",
    "import numpy as np\n",
    "import sklearn.metrics\n",
    "import sklearn.model_selection\n",
    "from sklearn.linear_model import LogisticRegression\n",
    "from sklearn.pipeline import Pipeline, make_pipeline\n",
    "from sklearn.preprocessing import OrdinalEncoder, StandardScaler\n",
    "from tqdm import tqdm\n",
    "\n",
    "REPOSITORY_ROOT = (pathlib.Path().cwd() / \"..\" / \"..\").resolve()\n",
    "sys.path.append(str(REPOSITORY_ROOT))"
   ]
  },
  {
   "cell_type": "code",
   "execution_count": 3,
   "metadata": {},
   "outputs": [],
   "source": [
    "from research.lib import data_access, embeddings, plotting"
   ]
  },
  {
   "cell_type": "code",
   "execution_count": 4,
   "metadata": {},
   "outputs": [
    {
     "data": {
      "text/plain": [
       "True"
      ]
     },
     "execution_count": 4,
     "metadata": {},
     "output_type": "execute_result"
    }
   ],
   "source": [
    "dotenv.load_dotenv()"
   ]
  },
  {
   "cell_type": "code",
   "execution_count": 5,
   "metadata": {},
   "outputs": [
    {
     "name": "stdout",
     "output_type": "stream",
     "text": [
      "Starting run: welcoming-sheep-370\n"
     ]
    },
    {
     "data": {
      "text/plain": [
       "''"
      ]
     },
     "execution_count": 5,
     "metadata": {},
     "output_type": "execute_result"
    }
   ],
   "source": [
    "mlflow.set_experiment(f\"V1. {'&'.join(sorted(LANGUAGES))}. document types\")\n",
    "\n",
    "if run := mlflow.active_run():\n",
    "    logging.warning(\"Run = %s is already active, closing it.\", run.info.run_name)\n",
    "    mlflow.end_run()\n",
    "run = mlflow.start_run()\n",
    "print(\"Starting run:\", run.info.run_name)\n",
    "mlflow.log_param(\"input_file\", DATA_FILE_NAME)\n",
    "mlflow.log_param(\"document_sources\", sorted(DOCUMENT_SOURCES))\n",
    "mlflow.log_param(\"languages\", LANGUAGES)\n",
    "mlflow.log_param(\"from_year\", FROM_YEAR)\n",
    "mlflow.log_param(\"embedding_model\", EMBEDDING_MODEL)\n",
    "mlflow.log_param(\"cv_folds\", CV_FOLDS)\n",
    "mlflow.log_param(\"test_size\", TEST_SIZE)\n",
    "mlflow.log_param(\"random_state\", RANDOM_STATE)\n",
    ";"
   ]
  },
  {
   "cell_type": "code",
   "execution_count": 6,
   "metadata": {},
   "outputs": [
    {
     "name": "stderr",
     "output_type": "stream",
     "text": [
      "2025/01/08 15:06:49 WARNING mlflow.utils.autologging_utils: MLflow sklearn autologging is known to be compatible with 0.24.1 <= scikit-learn <= 1.5.2, but the installed version is 1.6.0. If you encounter errors during autologging, try upgrading / downgrading scikit-learn to a compatible version, or try upgrading MLflow.\n"
     ]
    }
   ],
   "source": [
    "mlflow.sklearn.autolog()\n",
    "tqdm.pandas()"
   ]
  },
  {
   "cell_type": "markdown",
   "metadata": {},
   "source": [
    "# Input data preparation"
   ]
  },
  {
   "cell_type": "code",
   "execution_count": 7,
   "metadata": {},
   "outputs": [],
   "source": [
    "PREPROCESSED_DATA_FILE = REPOSITORY_ROOT / \"data\" / \"dataframes\" / DATA_FILE_NAME\n",
    "data_access.ensure_dataframe_is_available(PREPROCESSED_DATA_FILE)"
   ]
  },
  {
   "cell_type": "code",
   "execution_count": 8,
   "metadata": {},
   "outputs": [
    {
     "name": "stderr",
     "output_type": "stream",
     "text": [
      "/Users/vita/Code/demokratis/demokratis-ml/.venv/lib/python3.12/site-packages/mlflow/data/dataset_source_registry.py:149: UserWarning: Failed to determine whether UCVolumeDatasetSource can resolve source information for '/Users/vita/Code/demokratis/demokratis-ml/data/dataframes/consultation-documents-preprocessed-2025-01-06.parquet'. Exception: \n",
      "  return _dataset_source_registry.resolve(\n",
      "/Users/vita/Code/demokratis/demokratis-ml/.venv/lib/python3.12/site-packages/mlflow/data/dataset_source_registry.py:149: UserWarning: The specified dataset source can be interpreted in multiple ways: LocalArtifactDatasetSource, LocalArtifactDatasetSource. MLflow will assume that this is a LocalArtifactDatasetSource source.\n",
      "  return _dataset_source_registry.resolve(\n",
      "/Users/vita/Code/demokratis/demokratis-ml/.venv/lib/python3.12/site-packages/mlflow/types/utils.py:407: UserWarning: Hint: Inferred schema contains integer column(s). Integer columns in Python cannot represent missing values. If your input data contains missing values at inference time, it will be encoded as floats and will cause a schema enforcement error. The best way to avoid this problem is to infer the model schema based on a realistic data sample (training dataset) that includes missing values. Alternatively, you can declare integer columns as doubles (float64) whenever these columns may have missing values. See `Handling Integers With Missing Values <https://www.mlflow.org/docs/latest/models.html#handling-integers-with-missing-values>`_ for more details.\n",
      "  warnings.warn(\n"
     ]
    },
    {
     "data": {
      "text/html": [
       "<div>\n",
       "<style scoped>\n",
       "    .dataframe tbody tr th:only-of-type {\n",
       "        vertical-align: middle;\n",
       "    }\n",
       "\n",
       "    .dataframe tbody tr th {\n",
       "        vertical-align: top;\n",
       "    }\n",
       "\n",
       "    .dataframe thead th {\n",
       "        text-align: right;\n",
       "    }\n",
       "</style>\n",
       "<table border=\"1\" class=\"dataframe\">\n",
       "  <thead>\n",
       "    <tr style=\"text-align: right;\">\n",
       "      <th></th>\n",
       "      <th>document_id</th>\n",
       "      <th>consultation_id</th>\n",
       "      <th>consultation_start_date</th>\n",
       "      <th>consultation_end_date</th>\n",
       "      <th>consultation_title</th>\n",
       "      <th>consultation_description</th>\n",
       "      <th>document_source_url</th>\n",
       "      <th>consultation_url</th>\n",
       "      <th>consultation_topics</th>\n",
       "      <th>document_type</th>\n",
       "      <th>document_language</th>\n",
       "      <th>document_title</th>\n",
       "      <th>organisation_id</th>\n",
       "      <th>organisation_name</th>\n",
       "      <th>political_body</th>\n",
       "      <th>consultation_reviewed_at</th>\n",
       "      <th>document_source</th>\n",
       "      <th>consultation_topics_label_source</th>\n",
       "      <th>document_content_plain</th>\n",
       "    </tr>\n",
       "  </thead>\n",
       "  <tbody>\n",
       "    <tr>\n",
       "      <th>0</th>\n",
       "      <td>1</td>\n",
       "      <td>1</td>\n",
       "      <td>2021-10-01</td>\n",
       "      <td>2022-01-17</td>\n",
       "      <td>Verordnung des BAZG  über die Bekämpfung von G...</td>\n",
       "      <td>Mit der am 19. März 2021 durch das Parlament b...</td>\n",
       "      <td>https://fedlex.data.admin.ch/filestore/fedlex....</td>\n",
       "      <td>https://www.demokratis.ch/vernehmlassung/7bt3hz2w</td>\n",
       "      <td>[administration, finance, security]</td>\n",
       "      <td>DRAFT</td>\n",
       "      <td>de</td>\n",
       "      <td>Vernehmlassungsvorlage</td>\n",
       "      <td>41</td>\n",
       "      <td>Bundesamt für Zoll und Grenzsicherheit</td>\n",
       "      <td>ch</td>\n",
       "      <td>2024-11-04 15:11:24</td>\n",
       "      <td>fedlex</td>\n",
       "      <td>manual</td>\n",
       "      <td>«$$e-seal» \\n«$$QrCode» \\n \\n2021-… \\n«%ASFF_Y...</td>\n",
       "    </tr>\n",
       "    <tr>\n",
       "      <th>3</th>\n",
       "      <td>4</td>\n",
       "      <td>1</td>\n",
       "      <td>2021-10-01</td>\n",
       "      <td>2022-01-17</td>\n",
       "      <td>Verordnung des BAZG  über die Bekämpfung von G...</td>\n",
       "      <td>Mit der am 19. März 2021 durch das Parlament b...</td>\n",
       "      <td>https://fedlex.data.admin.ch/filestore/fedlex....</td>\n",
       "      <td>https://www.demokratis.ch/vernehmlassung/7bt3hz2w</td>\n",
       "      <td>[administration, finance, security]</td>\n",
       "      <td>RECIPIENT_LIST</td>\n",
       "      <td>de</td>\n",
       "      <td>Adressatenliste</td>\n",
       "      <td>41</td>\n",
       "      <td>Bundesamt für Zoll und Grenzsicherheit</td>\n",
       "      <td>ch</td>\n",
       "      <td>2024-11-04 15:11:24</td>\n",
       "      <td>fedlex</td>\n",
       "      <td>manual</td>\n",
       "      <td>Eidgenössisches Finanzdepartement EFD \\nEidgen...</td>\n",
       "    </tr>\n",
       "    <tr>\n",
       "      <th>6</th>\n",
       "      <td>7</td>\n",
       "      <td>1</td>\n",
       "      <td>2021-10-01</td>\n",
       "      <td>2022-01-17</td>\n",
       "      <td>Verordnung des BAZG  über die Bekämpfung von G...</td>\n",
       "      <td>Mit der am 19. März 2021 durch das Parlament b...</td>\n",
       "      <td>https://fedlex.data.admin.ch/filestore/fedlex....</td>\n",
       "      <td>https://www.demokratis.ch/vernehmlassung/7bt3hz2w</td>\n",
       "      <td>[administration, finance, security]</td>\n",
       "      <td>LETTER</td>\n",
       "      <td>de</td>\n",
       "      <td>Begleitschreiben 2</td>\n",
       "      <td>41</td>\n",
       "      <td>Bundesamt für Zoll und Grenzsicherheit</td>\n",
       "      <td>ch</td>\n",
       "      <td>2024-11-04 15:11:24</td>\n",
       "      <td>fedlex</td>\n",
       "      <td>manual</td>\n",
       "      <td>Eidgenössisches Finanzdepartement EFD \\nEidgen...</td>\n",
       "    </tr>\n",
       "    <tr>\n",
       "      <th>9</th>\n",
       "      <td>10</td>\n",
       "      <td>1</td>\n",
       "      <td>2021-10-01</td>\n",
       "      <td>2022-01-17</td>\n",
       "      <td>Verordnung des BAZG  über die Bekämpfung von G...</td>\n",
       "      <td>Mit der am 19. März 2021 durch das Parlament b...</td>\n",
       "      <td>https://fedlex.data.admin.ch/filestore/fedlex....</td>\n",
       "      <td>https://www.demokratis.ch/vernehmlassung/7bt3hz2w</td>\n",
       "      <td>[administration, finance, security]</td>\n",
       "      <td>REPORT</td>\n",
       "      <td>de</td>\n",
       "      <td>Erläuternder Bericht</td>\n",
       "      <td>41</td>\n",
       "      <td>Bundesamt für Zoll und Grenzsicherheit</td>\n",
       "      <td>ch</td>\n",
       "      <td>2024-11-04 15:11:24</td>\n",
       "      <td>fedlex</td>\n",
       "      <td>manual</td>\n",
       "      <td>1. Oktober 2021 \\n \\n \\n \\n \\nVerordnung des B...</td>\n",
       "    </tr>\n",
       "    <tr>\n",
       "      <th>12</th>\n",
       "      <td>13</td>\n",
       "      <td>1</td>\n",
       "      <td>2021-10-01</td>\n",
       "      <td>2022-01-17</td>\n",
       "      <td>Verordnung des BAZG  über die Bekämpfung von G...</td>\n",
       "      <td>Mit der am 19. März 2021 durch das Parlament b...</td>\n",
       "      <td>https://fedlex.data.admin.ch/filestore/fedlex....</td>\n",
       "      <td>https://www.demokratis.ch/vernehmlassung/7bt3hz2w</td>\n",
       "      <td>[administration, finance, security]</td>\n",
       "      <td>LETTER</td>\n",
       "      <td>de</td>\n",
       "      <td>Begleitschreiben 1</td>\n",
       "      <td>41</td>\n",
       "      <td>Bundesamt für Zoll und Grenzsicherheit</td>\n",
       "      <td>ch</td>\n",
       "      <td>2024-11-04 15:11:24</td>\n",
       "      <td>fedlex</td>\n",
       "      <td>manual</td>\n",
       "      <td>Eidgenössisches Finanzdepartement EFD \\nEidgen...</td>\n",
       "    </tr>\n",
       "    <tr>\n",
       "      <th>...</th>\n",
       "      <td>...</td>\n",
       "      <td>...</td>\n",
       "      <td>...</td>\n",
       "      <td>...</td>\n",
       "      <td>...</td>\n",
       "      <td>...</td>\n",
       "      <td>...</td>\n",
       "      <td>...</td>\n",
       "      <td>...</td>\n",
       "      <td>...</td>\n",
       "      <td>...</td>\n",
       "      <td>...</td>\n",
       "      <td>...</td>\n",
       "      <td>...</td>\n",
       "      <td>...</td>\n",
       "      <td>...</td>\n",
       "      <td>...</td>\n",
       "      <td>...</td>\n",
       "      <td>...</td>\n",
       "    </tr>\n",
       "    <tr>\n",
       "      <th>52027</th>\n",
       "      <td>53636</td>\n",
       "      <td>4940</td>\n",
       "      <td>2024-12-20</td>\n",
       "      <td>2025-04-03</td>\n",
       "      <td>Indirekter Gegenvorschlag (Änderung des Kernen...</td>\n",
       "      <td>Das Verbot des Erteilens der Rahmenbewilligung...</td>\n",
       "      <td>https://fedlex.data.admin.ch/filestore/fedlex....</td>\n",
       "      <td>https://www.demokratis.ch/vernehmlassung/2b64exk2</td>\n",
       "      <td>[energy, spatial_planning]</td>\n",
       "      <td>LETTER</td>\n",
       "      <td>de</td>\n",
       "      <td>Begleitschreiben</td>\n",
       "      <td>44</td>\n",
       "      <td>Bundesamt für Energie</td>\n",
       "      <td>ch</td>\n",
       "      <td>2024-11-05 11:39:50</td>\n",
       "      <td>fedlex</td>\n",
       "      <td>manual</td>\n",
       "      <td>Schweizerische Eidgenossenschaft\\nConfëdëratio...</td>\n",
       "    </tr>\n",
       "    <tr>\n",
       "      <th>52030</th>\n",
       "      <td>53639</td>\n",
       "      <td>4940</td>\n",
       "      <td>2024-12-20</td>\n",
       "      <td>2025-04-03</td>\n",
       "      <td>Indirekter Gegenvorschlag (Änderung des Kernen...</td>\n",
       "      <td>Das Verbot des Erteilens der Rahmenbewilligung...</td>\n",
       "      <td>https://fedlex.data.admin.ch/filestore/fedlex....</td>\n",
       "      <td>https://www.demokratis.ch/vernehmlassung/2b64exk2</td>\n",
       "      <td>[energy, spatial_planning]</td>\n",
       "      <td>LETTER</td>\n",
       "      <td>de</td>\n",
       "      <td>Begleitschreiben-2</td>\n",
       "      <td>44</td>\n",
       "      <td>Bundesamt für Energie</td>\n",
       "      <td>ch</td>\n",
       "      <td>2024-11-05 11:39:50</td>\n",
       "      <td>fedlex</td>\n",
       "      <td>manual</td>\n",
       "      <td>Schweizerische Eidgenossenschaft\\nConfëdëratio...</td>\n",
       "    </tr>\n",
       "    <tr>\n",
       "      <th>52033</th>\n",
       "      <td>53642</td>\n",
       "      <td>4940</td>\n",
       "      <td>2024-12-20</td>\n",
       "      <td>2025-04-03</td>\n",
       "      <td>Indirekter Gegenvorschlag (Änderung des Kernen...</td>\n",
       "      <td>Das Verbot des Erteilens der Rahmenbewilligung...</td>\n",
       "      <td>https://fedlex.data.admin.ch/filestore/fedlex....</td>\n",
       "      <td>https://www.demokratis.ch/vernehmlassung/2b64exk2</td>\n",
       "      <td>[energy, spatial_planning]</td>\n",
       "      <td>REPORT</td>\n",
       "      <td>de</td>\n",
       "      <td>Erläuternder Bericht</td>\n",
       "      <td>44</td>\n",
       "      <td>Bundesamt für Energie</td>\n",
       "      <td>ch</td>\n",
       "      <td>2024-11-05 11:39:50</td>\n",
       "      <td>fedlex</td>\n",
       "      <td>manual</td>\n",
       "      <td>BFE-D-BDD93401/157\\n \\nEidgenössisches Departe...</td>\n",
       "    </tr>\n",
       "    <tr>\n",
       "      <th>52036</th>\n",
       "      <td>53645</td>\n",
       "      <td>4940</td>\n",
       "      <td>2024-12-20</td>\n",
       "      <td>2025-04-03</td>\n",
       "      <td>Indirekter Gegenvorschlag (Änderung des Kernen...</td>\n",
       "      <td>Das Verbot des Erteilens der Rahmenbewilligung...</td>\n",
       "      <td>https://fedlex.data.admin.ch/filestore/fedlex....</td>\n",
       "      <td>https://www.demokratis.ch/vernehmlassung/2b64exk2</td>\n",
       "      <td>[energy, spatial_planning]</td>\n",
       "      <td>SYNOPTIC_TABLE</td>\n",
       "      <td>de</td>\n",
       "      <td>Synoptische Tabelle</td>\n",
       "      <td>44</td>\n",
       "      <td>Bundesamt für Energie</td>\n",
       "      <td>ch</td>\n",
       "      <td>2024-11-05 11:39:50</td>\n",
       "      <td>fedlex</td>\n",
       "      <td>manual</td>\n",
       "      <td>Änderungen des Kernenergiegesetzes (KEG, SR 73...</td>\n",
       "    </tr>\n",
       "    <tr>\n",
       "      <th>52047</th>\n",
       "      <td>53660</td>\n",
       "      <td>4844</td>\n",
       "      <td>2024-08-28</td>\n",
       "      <td>2024-11-30</td>\n",
       "      <td>Änderung des Luftfahrtgesetzes</td>\n",
       "      <td>Mit der Änderung der Luftfahrtgesetzes (LFG) w...</td>\n",
       "      <td>https://fedlex.data.admin.ch/filestore/fedlex....</td>\n",
       "      <td>https://www.demokratis.ch/vernehmlassung/cc6jc49c</td>\n",
       "      <td>[law, security, transportation]</td>\n",
       "      <td>OPINION</td>\n",
       "      <td>de</td>\n",
       "      <td>Stellungnahmen</td>\n",
       "      <td>42</td>\n",
       "      <td>Bundesamt für Zivilluftfahrt</td>\n",
       "      <td>ch</td>\n",
       "      <td>2024-10-31 12:16:41</td>\n",
       "      <td>fedlex</td>\n",
       "      <td>manual</td>\n",
       "      <td>Symmetrische Verkehrsstatistiken – Neue Perspe...</td>\n",
       "    </tr>\n",
       "  </tbody>\n",
       "</table>\n",
       "<p>13156 rows × 19 columns</p>\n",
       "</div>"
      ],
      "text/plain": [
       "       document_id  consultation_id consultation_start_date  \\\n",
       "0                1                1              2021-10-01   \n",
       "3                4                1              2021-10-01   \n",
       "6                7                1              2021-10-01   \n",
       "9               10                1              2021-10-01   \n",
       "12              13                1              2021-10-01   \n",
       "...            ...              ...                     ...   \n",
       "52027        53636             4940              2024-12-20   \n",
       "52030        53639             4940              2024-12-20   \n",
       "52033        53642             4940              2024-12-20   \n",
       "52036        53645             4940              2024-12-20   \n",
       "52047        53660             4844              2024-08-28   \n",
       "\n",
       "      consultation_end_date  \\\n",
       "0                2022-01-17   \n",
       "3                2022-01-17   \n",
       "6                2022-01-17   \n",
       "9                2022-01-17   \n",
       "12               2022-01-17   \n",
       "...                     ...   \n",
       "52027            2025-04-03   \n",
       "52030            2025-04-03   \n",
       "52033            2025-04-03   \n",
       "52036            2025-04-03   \n",
       "52047            2024-11-30   \n",
       "\n",
       "                                      consultation_title  \\\n",
       "0      Verordnung des BAZG  über die Bekämpfung von G...   \n",
       "3      Verordnung des BAZG  über die Bekämpfung von G...   \n",
       "6      Verordnung des BAZG  über die Bekämpfung von G...   \n",
       "9      Verordnung des BAZG  über die Bekämpfung von G...   \n",
       "12     Verordnung des BAZG  über die Bekämpfung von G...   \n",
       "...                                                  ...   \n",
       "52027  Indirekter Gegenvorschlag (Änderung des Kernen...   \n",
       "52030  Indirekter Gegenvorschlag (Änderung des Kernen...   \n",
       "52033  Indirekter Gegenvorschlag (Änderung des Kernen...   \n",
       "52036  Indirekter Gegenvorschlag (Änderung des Kernen...   \n",
       "52047                     Änderung des Luftfahrtgesetzes   \n",
       "\n",
       "                                consultation_description  \\\n",
       "0      Mit der am 19. März 2021 durch das Parlament b...   \n",
       "3      Mit der am 19. März 2021 durch das Parlament b...   \n",
       "6      Mit der am 19. März 2021 durch das Parlament b...   \n",
       "9      Mit der am 19. März 2021 durch das Parlament b...   \n",
       "12     Mit der am 19. März 2021 durch das Parlament b...   \n",
       "...                                                  ...   \n",
       "52027  Das Verbot des Erteilens der Rahmenbewilligung...   \n",
       "52030  Das Verbot des Erteilens der Rahmenbewilligung...   \n",
       "52033  Das Verbot des Erteilens der Rahmenbewilligung...   \n",
       "52036  Das Verbot des Erteilens der Rahmenbewilligung...   \n",
       "52047  Mit der Änderung der Luftfahrtgesetzes (LFG) w...   \n",
       "\n",
       "                                     document_source_url  \\\n",
       "0      https://fedlex.data.admin.ch/filestore/fedlex....   \n",
       "3      https://fedlex.data.admin.ch/filestore/fedlex....   \n",
       "6      https://fedlex.data.admin.ch/filestore/fedlex....   \n",
       "9      https://fedlex.data.admin.ch/filestore/fedlex....   \n",
       "12     https://fedlex.data.admin.ch/filestore/fedlex....   \n",
       "...                                                  ...   \n",
       "52027  https://fedlex.data.admin.ch/filestore/fedlex....   \n",
       "52030  https://fedlex.data.admin.ch/filestore/fedlex....   \n",
       "52033  https://fedlex.data.admin.ch/filestore/fedlex....   \n",
       "52036  https://fedlex.data.admin.ch/filestore/fedlex....   \n",
       "52047  https://fedlex.data.admin.ch/filestore/fedlex....   \n",
       "\n",
       "                                        consultation_url  \\\n",
       "0      https://www.demokratis.ch/vernehmlassung/7bt3hz2w   \n",
       "3      https://www.demokratis.ch/vernehmlassung/7bt3hz2w   \n",
       "6      https://www.demokratis.ch/vernehmlassung/7bt3hz2w   \n",
       "9      https://www.demokratis.ch/vernehmlassung/7bt3hz2w   \n",
       "12     https://www.demokratis.ch/vernehmlassung/7bt3hz2w   \n",
       "...                                                  ...   \n",
       "52027  https://www.demokratis.ch/vernehmlassung/2b64exk2   \n",
       "52030  https://www.demokratis.ch/vernehmlassung/2b64exk2   \n",
       "52033  https://www.demokratis.ch/vernehmlassung/2b64exk2   \n",
       "52036  https://www.demokratis.ch/vernehmlassung/2b64exk2   \n",
       "52047  https://www.demokratis.ch/vernehmlassung/cc6jc49c   \n",
       "\n",
       "                       consultation_topics   document_type document_language  \\\n",
       "0      [administration, finance, security]           DRAFT                de   \n",
       "3      [administration, finance, security]  RECIPIENT_LIST                de   \n",
       "6      [administration, finance, security]          LETTER                de   \n",
       "9      [administration, finance, security]          REPORT                de   \n",
       "12     [administration, finance, security]          LETTER                de   \n",
       "...                                    ...             ...               ...   \n",
       "52027           [energy, spatial_planning]          LETTER                de   \n",
       "52030           [energy, spatial_planning]          LETTER                de   \n",
       "52033           [energy, spatial_planning]          REPORT                de   \n",
       "52036           [energy, spatial_planning]  SYNOPTIC_TABLE                de   \n",
       "52047      [law, security, transportation]         OPINION                de   \n",
       "\n",
       "               document_title  organisation_id  \\\n",
       "0      Vernehmlassungsvorlage               41   \n",
       "3             Adressatenliste               41   \n",
       "6          Begleitschreiben 2               41   \n",
       "9        Erläuternder Bericht               41   \n",
       "12         Begleitschreiben 1               41   \n",
       "...                       ...              ...   \n",
       "52027        Begleitschreiben               44   \n",
       "52030      Begleitschreiben-2               44   \n",
       "52033    Erläuternder Bericht               44   \n",
       "52036     Synoptische Tabelle               44   \n",
       "52047          Stellungnahmen               42   \n",
       "\n",
       "                            organisation_name political_body  \\\n",
       "0      Bundesamt für Zoll und Grenzsicherheit             ch   \n",
       "3      Bundesamt für Zoll und Grenzsicherheit             ch   \n",
       "6      Bundesamt für Zoll und Grenzsicherheit             ch   \n",
       "9      Bundesamt für Zoll und Grenzsicherheit             ch   \n",
       "12     Bundesamt für Zoll und Grenzsicherheit             ch   \n",
       "...                                       ...            ...   \n",
       "52027                   Bundesamt für Energie             ch   \n",
       "52030                   Bundesamt für Energie             ch   \n",
       "52033                   Bundesamt für Energie             ch   \n",
       "52036                   Bundesamt für Energie             ch   \n",
       "52047            Bundesamt für Zivilluftfahrt             ch   \n",
       "\n",
       "      consultation_reviewed_at document_source  \\\n",
       "0          2024-11-04 15:11:24          fedlex   \n",
       "3          2024-11-04 15:11:24          fedlex   \n",
       "6          2024-11-04 15:11:24          fedlex   \n",
       "9          2024-11-04 15:11:24          fedlex   \n",
       "12         2024-11-04 15:11:24          fedlex   \n",
       "...                        ...             ...   \n",
       "52027      2024-11-05 11:39:50          fedlex   \n",
       "52030      2024-11-05 11:39:50          fedlex   \n",
       "52033      2024-11-05 11:39:50          fedlex   \n",
       "52036      2024-11-05 11:39:50          fedlex   \n",
       "52047      2024-10-31 12:16:41          fedlex   \n",
       "\n",
       "      consultation_topics_label_source  \\\n",
       "0                               manual   \n",
       "3                               manual   \n",
       "6                               manual   \n",
       "9                               manual   \n",
       "12                              manual   \n",
       "...                                ...   \n",
       "52027                           manual   \n",
       "52030                           manual   \n",
       "52033                           manual   \n",
       "52036                           manual   \n",
       "52047                           manual   \n",
       "\n",
       "                                  document_content_plain  \n",
       "0      «$$e-seal» \\n«$$QrCode» \\n \\n2021-… \\n«%ASFF_Y...  \n",
       "3      Eidgenössisches Finanzdepartement EFD \\nEidgen...  \n",
       "6      Eidgenössisches Finanzdepartement EFD \\nEidgen...  \n",
       "9      1. Oktober 2021 \\n \\n \\n \\n \\nVerordnung des B...  \n",
       "12     Eidgenössisches Finanzdepartement EFD \\nEidgen...  \n",
       "...                                                  ...  \n",
       "52027  Schweizerische Eidgenossenschaft\\nConfëdëratio...  \n",
       "52030  Schweizerische Eidgenossenschaft\\nConfëdëratio...  \n",
       "52033  BFE-D-BDD93401/157\\n \\nEidgenössisches Departe...  \n",
       "52036  Änderungen des Kernenergiegesetzes (KEG, SR 73...  \n",
       "52047  Symmetrische Verkehrsstatistiken – Neue Perspe...  \n",
       "\n",
       "[13156 rows x 19 columns]"
      ]
     },
     "execution_count": 8,
     "metadata": {},
     "output_type": "execute_result"
    }
   ],
   "source": [
    "df_input = data_access.load_consultation_documents(\n",
    "    PREPROCESSED_DATA_FILE,\n",
    "    only_document_sources=DOCUMENT_SOURCES,\n",
    "    only_languages=LANGUAGES,\n",
    "    starting_year=FROM_YEAR,\n",
    "    mlflow=mlflow,\n",
    ")\n",
    "df_input"
   ]
  },
  {
   "cell_type": "code",
   "execution_count": 9,
   "metadata": {},
   "outputs": [
    {
     "data": {
      "text/plain": [
       "document_type\n",
       "LETTER            3084\n",
       "DRAFT             2898\n",
       "REPORT            2153\n",
       "RECIPIENT_LIST    1770\n",
       "FINAL_REPORT      1747\n",
       "OPINION            985\n",
       "VARIOUS_TEXT       418\n",
       "SYNOPTIC_TABLE      81\n",
       "SURVEY              13\n",
       "RESPONSE_FORM        7\n",
       "DECISION             0\n",
       "LINK                 0\n",
       "Name: count, dtype: int64"
      ]
     },
     "execution_count": 9,
     "metadata": {},
     "output_type": "execute_result"
    }
   ],
   "source": [
    "df_input[\"document_type\"].value_counts(dropna=False)"
   ]
  },
  {
   "cell_type": "markdown",
   "metadata": {},
   "source": [
    "## Define the target"
   ]
  },
  {
   "cell_type": "code",
   "execution_count": 10,
   "metadata": {},
   "outputs": [],
   "source": [
    "y_encoder = OrdinalEncoder(dtype=int)\n",
    "df_input[\"document_type_code\"] = y_encoder.fit_transform(df_input[[\"document_type\"]])"
   ]
  },
  {
   "cell_type": "markdown",
   "metadata": {},
   "source": [
    "## Drop empty documents"
   ]
  },
  {
   "cell_type": "code",
   "execution_count": 11,
   "metadata": {},
   "outputs": [
    {
     "name": "stdout",
     "output_type": "stream",
     "text": [
      "Empty texts: 705 (5.4%)\n"
     ]
    }
   ],
   "source": [
    "empty_index = df_input[\"document_content_plain\"] == \"\"\n",
    "empty_count = len(df_input[empty_index])\n",
    "print(f\"Empty texts: {empty_count} ({100 * empty_count / len(df_input):.1f}%)\")"
   ]
  },
  {
   "cell_type": "code",
   "execution_count": 12,
   "metadata": {},
   "outputs": [],
   "source": [
    "df_input = df_input.loc[~empty_index]"
   ]
  },
  {
   "cell_type": "markdown",
   "metadata": {},
   "source": [
    "## Splits"
   ]
  },
  {
   "cell_type": "markdown",
   "metadata": {},
   "source": [
    "### Set aside a test set"
   ]
  },
  {
   "cell_type": "code",
   "execution_count": 13,
   "metadata": {},
   "outputs": [],
   "source": [
    "splitter = sklearn.model_selection.StratifiedShuffleSplit(\n",
    "    n_splits=1,\n",
    "    test_size=TEST_SIZE,\n",
    "    random_state=RANDOM_STATE,\n",
    ")\n",
    "\n",
    "train_index, test_index = next(splitter.split(X=df_input, y=df_input[\"document_type_code\"]))"
   ]
  },
  {
   "cell_type": "code",
   "execution_count": 14,
   "metadata": {},
   "outputs": [
    {
     "name": "stdout",
     "output_type": "stream",
     "text": [
      "Train: (11205, 20)\n",
      "Test: (1246, 20)\n"
     ]
    }
   ],
   "source": [
    "df_input_train = df_input.iloc[train_index]\n",
    "df_input_test = df_input.iloc[test_index]\n",
    "\n",
    "print(\"Train:\", df_input_train.shape)\n",
    "print(\"Test:\", df_input_test.shape)"
   ]
  },
  {
   "cell_type": "code",
   "execution_count": 15,
   "metadata": {},
   "outputs": [
    {
     "data": {
      "text/plain": [
       "1246"
      ]
     },
     "execution_count": 15,
     "metadata": {},
     "output_type": "execute_result"
    }
   ],
   "source": [
    "mlflow.log_param(\"train_samples_count\", len(df_input_train))\n",
    "mlflow.log_param(\"test_samples_count\", len(df_input_test))"
   ]
  },
  {
   "cell_type": "markdown",
   "metadata": {},
   "source": [
    "### Prepare a cross-validation splitter"
   ]
  },
  {
   "cell_type": "code",
   "execution_count": 16,
   "metadata": {},
   "outputs": [],
   "source": [
    "cv_splitter = sklearn.model_selection.StratifiedKFold(\n",
    "    n_splits=CV_FOLDS,\n",
    "    shuffle=True,\n",
    "    random_state=RANDOM_STATE,\n",
    ")"
   ]
  },
  {
   "cell_type": "markdown",
   "metadata": {},
   "source": [
    "# Embeddings"
   ]
  },
  {
   "cell_type": "markdown",
   "metadata": {},
   "source": [
    "## Tokenise and truncate to input window"
   ]
  },
  {
   "cell_type": "code",
   "execution_count": 17,
   "metadata": {},
   "outputs": [
    {
     "name": "stderr",
     "output_type": "stream",
     "text": [
      "100%|██████████| 11205/11205 [00:40<00:00, 279.34it/s]\n",
      "100%|██████████| 1246/1246 [00:04<00:00, 287.83it/s]\n"
     ]
    }
   ],
   "source": [
    "embedding_model = embeddings.create_embedding_model(EMBEDDING_MODEL)\n",
    "mlflow.log_param(\"embedding_model.max_input_tokens\", embedding_model.max_input_tokens)\n",
    "\n",
    "tokens_train = df_input_train[\"document_content_plain\"].progress_map(embedding_model.tokenize)\n",
    "tokens_test = df_input_test[\"document_content_plain\"].progress_map(embedding_model.tokenize)"
   ]
  },
  {
   "cell_type": "markdown",
   "metadata": {},
   "source": [
    "## Embed"
   ]
  },
  {
   "cell_type": "code",
   "execution_count": 18,
   "metadata": {},
   "outputs": [
    {
     "name": "stderr",
     "output_type": "stream",
     "text": [
      "Embedding (cached=11204, new=0): 100%|██████████| 11205/11205 [00:09<00:00, 1233.54it/s]\n"
     ]
    },
    {
     "name": "stdout",
     "output_type": "stream",
     "text": [
      "(11205, 3072)\n"
     ]
    },
    {
     "name": "stderr",
     "output_type": "stream",
     "text": [
      "Embedding (cached=1245, new=0): 100%|██████████| 1246/1246 [00:01<00:00, 1211.96it/s]\n"
     ]
    },
    {
     "name": "stdout",
     "output_type": "stream",
     "text": [
      "(1246, 3072)\n"
     ]
    }
   ],
   "source": [
    "with embeddings.use_cache(\n",
    "    embedding_model,\n",
    "    tqdm=tqdm,\n",
    "    cache_directory=REPOSITORY_ROOT / \"data\" / \"embeddings-cache\",\n",
    ") as get_embeddings:\n",
    "    embeddings_train = get_embeddings(tokens_train.tolist())\n",
    "    print(embeddings_train.shape)\n",
    "    embeddings_test = get_embeddings(tokens_test.tolist())\n",
    "    print(embeddings_test.shape)"
   ]
  },
  {
   "cell_type": "markdown",
   "metadata": {},
   "source": [
    "# Classification"
   ]
  },
  {
   "cell_type": "code",
   "execution_count": 19,
   "metadata": {},
   "outputs": [
    {
     "name": "stdout",
     "output_type": "stream",
     "text": [
      "Train (11205, 3072) (11205,)\n",
      "Test (1246, 3072) (1246,)\n"
     ]
    }
   ],
   "source": [
    "X_train = embeddings_train\n",
    "X_test = embeddings_test\n",
    "y_train = df_input_train[\"document_type_code\"]\n",
    "y_test = df_input_test[\"document_type_code\"]\n",
    "\n",
    "print(\"Train\", X_train.shape, y_train.shape)\n",
    "print(\"Test\", X_test.shape, y_test.shape)"
   ]
  },
  {
   "cell_type": "code",
   "execution_count": 20,
   "metadata": {},
   "outputs": [
    {
     "data": {
      "text/html": [
       "<style>#sk-container-id-1 {\n",
       "  /* Definition of color scheme common for light and dark mode */\n",
       "  --sklearn-color-text: #000;\n",
       "  --sklearn-color-text-muted: #666;\n",
       "  --sklearn-color-line: gray;\n",
       "  /* Definition of color scheme for unfitted estimators */\n",
       "  --sklearn-color-unfitted-level-0: #fff5e6;\n",
       "  --sklearn-color-unfitted-level-1: #f6e4d2;\n",
       "  --sklearn-color-unfitted-level-2: #ffe0b3;\n",
       "  --sklearn-color-unfitted-level-3: chocolate;\n",
       "  /* Definition of color scheme for fitted estimators */\n",
       "  --sklearn-color-fitted-level-0: #f0f8ff;\n",
       "  --sklearn-color-fitted-level-1: #d4ebff;\n",
       "  --sklearn-color-fitted-level-2: #b3dbfd;\n",
       "  --sklearn-color-fitted-level-3: cornflowerblue;\n",
       "\n",
       "  /* Specific color for light theme */\n",
       "  --sklearn-color-text-on-default-background: var(--sg-text-color, var(--theme-code-foreground, var(--jp-content-font-color1, black)));\n",
       "  --sklearn-color-background: var(--sg-background-color, var(--theme-background, var(--jp-layout-color0, white)));\n",
       "  --sklearn-color-border-box: var(--sg-text-color, var(--theme-code-foreground, var(--jp-content-font-color1, black)));\n",
       "  --sklearn-color-icon: #696969;\n",
       "\n",
       "  @media (prefers-color-scheme: dark) {\n",
       "    /* Redefinition of color scheme for dark theme */\n",
       "    --sklearn-color-text-on-default-background: var(--sg-text-color, var(--theme-code-foreground, var(--jp-content-font-color1, white)));\n",
       "    --sklearn-color-background: var(--sg-background-color, var(--theme-background, var(--jp-layout-color0, #111)));\n",
       "    --sklearn-color-border-box: var(--sg-text-color, var(--theme-code-foreground, var(--jp-content-font-color1, white)));\n",
       "    --sklearn-color-icon: #878787;\n",
       "  }\n",
       "}\n",
       "\n",
       "#sk-container-id-1 {\n",
       "  color: var(--sklearn-color-text);\n",
       "}\n",
       "\n",
       "#sk-container-id-1 pre {\n",
       "  padding: 0;\n",
       "}\n",
       "\n",
       "#sk-container-id-1 input.sk-hidden--visually {\n",
       "  border: 0;\n",
       "  clip: rect(1px 1px 1px 1px);\n",
       "  clip: rect(1px, 1px, 1px, 1px);\n",
       "  height: 1px;\n",
       "  margin: -1px;\n",
       "  overflow: hidden;\n",
       "  padding: 0;\n",
       "  position: absolute;\n",
       "  width: 1px;\n",
       "}\n",
       "\n",
       "#sk-container-id-1 div.sk-dashed-wrapped {\n",
       "  border: 1px dashed var(--sklearn-color-line);\n",
       "  margin: 0 0.4em 0.5em 0.4em;\n",
       "  box-sizing: border-box;\n",
       "  padding-bottom: 0.4em;\n",
       "  background-color: var(--sklearn-color-background);\n",
       "}\n",
       "\n",
       "#sk-container-id-1 div.sk-container {\n",
       "  /* jupyter's `normalize.less` sets `[hidden] { display: none; }`\n",
       "     but bootstrap.min.css set `[hidden] { display: none !important; }`\n",
       "     so we also need the `!important` here to be able to override the\n",
       "     default hidden behavior on the sphinx rendered scikit-learn.org.\n",
       "     See: https://github.com/scikit-learn/scikit-learn/issues/21755 */\n",
       "  display: inline-block !important;\n",
       "  position: relative;\n",
       "}\n",
       "\n",
       "#sk-container-id-1 div.sk-text-repr-fallback {\n",
       "  display: none;\n",
       "}\n",
       "\n",
       "div.sk-parallel-item,\n",
       "div.sk-serial,\n",
       "div.sk-item {\n",
       "  /* draw centered vertical line to link estimators */\n",
       "  background-image: linear-gradient(var(--sklearn-color-text-on-default-background), var(--sklearn-color-text-on-default-background));\n",
       "  background-size: 2px 100%;\n",
       "  background-repeat: no-repeat;\n",
       "  background-position: center center;\n",
       "}\n",
       "\n",
       "/* Parallel-specific style estimator block */\n",
       "\n",
       "#sk-container-id-1 div.sk-parallel-item::after {\n",
       "  content: \"\";\n",
       "  width: 100%;\n",
       "  border-bottom: 2px solid var(--sklearn-color-text-on-default-background);\n",
       "  flex-grow: 1;\n",
       "}\n",
       "\n",
       "#sk-container-id-1 div.sk-parallel {\n",
       "  display: flex;\n",
       "  align-items: stretch;\n",
       "  justify-content: center;\n",
       "  background-color: var(--sklearn-color-background);\n",
       "  position: relative;\n",
       "}\n",
       "\n",
       "#sk-container-id-1 div.sk-parallel-item {\n",
       "  display: flex;\n",
       "  flex-direction: column;\n",
       "}\n",
       "\n",
       "#sk-container-id-1 div.sk-parallel-item:first-child::after {\n",
       "  align-self: flex-end;\n",
       "  width: 50%;\n",
       "}\n",
       "\n",
       "#sk-container-id-1 div.sk-parallel-item:last-child::after {\n",
       "  align-self: flex-start;\n",
       "  width: 50%;\n",
       "}\n",
       "\n",
       "#sk-container-id-1 div.sk-parallel-item:only-child::after {\n",
       "  width: 0;\n",
       "}\n",
       "\n",
       "/* Serial-specific style estimator block */\n",
       "\n",
       "#sk-container-id-1 div.sk-serial {\n",
       "  display: flex;\n",
       "  flex-direction: column;\n",
       "  align-items: center;\n",
       "  background-color: var(--sklearn-color-background);\n",
       "  padding-right: 1em;\n",
       "  padding-left: 1em;\n",
       "}\n",
       "\n",
       "\n",
       "/* Toggleable style: style used for estimator/Pipeline/ColumnTransformer box that is\n",
       "clickable and can be expanded/collapsed.\n",
       "- Pipeline and ColumnTransformer use this feature and define the default style\n",
       "- Estimators will overwrite some part of the style using the `sk-estimator` class\n",
       "*/\n",
       "\n",
       "/* Pipeline and ColumnTransformer style (default) */\n",
       "\n",
       "#sk-container-id-1 div.sk-toggleable {\n",
       "  /* Default theme specific background. It is overwritten whether we have a\n",
       "  specific estimator or a Pipeline/ColumnTransformer */\n",
       "  background-color: var(--sklearn-color-background);\n",
       "}\n",
       "\n",
       "/* Toggleable label */\n",
       "#sk-container-id-1 label.sk-toggleable__label {\n",
       "  cursor: pointer;\n",
       "  display: flex;\n",
       "  width: 100%;\n",
       "  margin-bottom: 0;\n",
       "  padding: 0.5em;\n",
       "  box-sizing: border-box;\n",
       "  text-align: center;\n",
       "  align-items: start;\n",
       "  justify-content: space-between;\n",
       "  gap: 0.5em;\n",
       "}\n",
       "\n",
       "#sk-container-id-1 label.sk-toggleable__label .caption {\n",
       "  font-size: 0.6rem;\n",
       "  font-weight: lighter;\n",
       "  color: var(--sklearn-color-text-muted);\n",
       "}\n",
       "\n",
       "#sk-container-id-1 label.sk-toggleable__label-arrow:before {\n",
       "  /* Arrow on the left of the label */\n",
       "  content: \"▸\";\n",
       "  float: left;\n",
       "  margin-right: 0.25em;\n",
       "  color: var(--sklearn-color-icon);\n",
       "}\n",
       "\n",
       "#sk-container-id-1 label.sk-toggleable__label-arrow:hover:before {\n",
       "  color: var(--sklearn-color-text);\n",
       "}\n",
       "\n",
       "/* Toggleable content - dropdown */\n",
       "\n",
       "#sk-container-id-1 div.sk-toggleable__content {\n",
       "  max-height: 0;\n",
       "  max-width: 0;\n",
       "  overflow: hidden;\n",
       "  text-align: left;\n",
       "  /* unfitted */\n",
       "  background-color: var(--sklearn-color-unfitted-level-0);\n",
       "}\n",
       "\n",
       "#sk-container-id-1 div.sk-toggleable__content.fitted {\n",
       "  /* fitted */\n",
       "  background-color: var(--sklearn-color-fitted-level-0);\n",
       "}\n",
       "\n",
       "#sk-container-id-1 div.sk-toggleable__content pre {\n",
       "  margin: 0.2em;\n",
       "  border-radius: 0.25em;\n",
       "  color: var(--sklearn-color-text);\n",
       "  /* unfitted */\n",
       "  background-color: var(--sklearn-color-unfitted-level-0);\n",
       "}\n",
       "\n",
       "#sk-container-id-1 div.sk-toggleable__content.fitted pre {\n",
       "  /* unfitted */\n",
       "  background-color: var(--sklearn-color-fitted-level-0);\n",
       "}\n",
       "\n",
       "#sk-container-id-1 input.sk-toggleable__control:checked~div.sk-toggleable__content {\n",
       "  /* Expand drop-down */\n",
       "  max-height: 200px;\n",
       "  max-width: 100%;\n",
       "  overflow: auto;\n",
       "}\n",
       "\n",
       "#sk-container-id-1 input.sk-toggleable__control:checked~label.sk-toggleable__label-arrow:before {\n",
       "  content: \"▾\";\n",
       "}\n",
       "\n",
       "/* Pipeline/ColumnTransformer-specific style */\n",
       "\n",
       "#sk-container-id-1 div.sk-label input.sk-toggleable__control:checked~label.sk-toggleable__label {\n",
       "  color: var(--sklearn-color-text);\n",
       "  background-color: var(--sklearn-color-unfitted-level-2);\n",
       "}\n",
       "\n",
       "#sk-container-id-1 div.sk-label.fitted input.sk-toggleable__control:checked~label.sk-toggleable__label {\n",
       "  background-color: var(--sklearn-color-fitted-level-2);\n",
       "}\n",
       "\n",
       "/* Estimator-specific style */\n",
       "\n",
       "/* Colorize estimator box */\n",
       "#sk-container-id-1 div.sk-estimator input.sk-toggleable__control:checked~label.sk-toggleable__label {\n",
       "  /* unfitted */\n",
       "  background-color: var(--sklearn-color-unfitted-level-2);\n",
       "}\n",
       "\n",
       "#sk-container-id-1 div.sk-estimator.fitted input.sk-toggleable__control:checked~label.sk-toggleable__label {\n",
       "  /* fitted */\n",
       "  background-color: var(--sklearn-color-fitted-level-2);\n",
       "}\n",
       "\n",
       "#sk-container-id-1 div.sk-label label.sk-toggleable__label,\n",
       "#sk-container-id-1 div.sk-label label {\n",
       "  /* The background is the default theme color */\n",
       "  color: var(--sklearn-color-text-on-default-background);\n",
       "}\n",
       "\n",
       "/* On hover, darken the color of the background */\n",
       "#sk-container-id-1 div.sk-label:hover label.sk-toggleable__label {\n",
       "  color: var(--sklearn-color-text);\n",
       "  background-color: var(--sklearn-color-unfitted-level-2);\n",
       "}\n",
       "\n",
       "/* Label box, darken color on hover, fitted */\n",
       "#sk-container-id-1 div.sk-label.fitted:hover label.sk-toggleable__label.fitted {\n",
       "  color: var(--sklearn-color-text);\n",
       "  background-color: var(--sklearn-color-fitted-level-2);\n",
       "}\n",
       "\n",
       "/* Estimator label */\n",
       "\n",
       "#sk-container-id-1 div.sk-label label {\n",
       "  font-family: monospace;\n",
       "  font-weight: bold;\n",
       "  display: inline-block;\n",
       "  line-height: 1.2em;\n",
       "}\n",
       "\n",
       "#sk-container-id-1 div.sk-label-container {\n",
       "  text-align: center;\n",
       "}\n",
       "\n",
       "/* Estimator-specific */\n",
       "#sk-container-id-1 div.sk-estimator {\n",
       "  font-family: monospace;\n",
       "  border: 1px dotted var(--sklearn-color-border-box);\n",
       "  border-radius: 0.25em;\n",
       "  box-sizing: border-box;\n",
       "  margin-bottom: 0.5em;\n",
       "  /* unfitted */\n",
       "  background-color: var(--sklearn-color-unfitted-level-0);\n",
       "}\n",
       "\n",
       "#sk-container-id-1 div.sk-estimator.fitted {\n",
       "  /* fitted */\n",
       "  background-color: var(--sklearn-color-fitted-level-0);\n",
       "}\n",
       "\n",
       "/* on hover */\n",
       "#sk-container-id-1 div.sk-estimator:hover {\n",
       "  /* unfitted */\n",
       "  background-color: var(--sklearn-color-unfitted-level-2);\n",
       "}\n",
       "\n",
       "#sk-container-id-1 div.sk-estimator.fitted:hover {\n",
       "  /* fitted */\n",
       "  background-color: var(--sklearn-color-fitted-level-2);\n",
       "}\n",
       "\n",
       "/* Specification for estimator info (e.g. \"i\" and \"?\") */\n",
       "\n",
       "/* Common style for \"i\" and \"?\" */\n",
       "\n",
       ".sk-estimator-doc-link,\n",
       "a:link.sk-estimator-doc-link,\n",
       "a:visited.sk-estimator-doc-link {\n",
       "  float: right;\n",
       "  font-size: smaller;\n",
       "  line-height: 1em;\n",
       "  font-family: monospace;\n",
       "  background-color: var(--sklearn-color-background);\n",
       "  border-radius: 1em;\n",
       "  height: 1em;\n",
       "  width: 1em;\n",
       "  text-decoration: none !important;\n",
       "  margin-left: 0.5em;\n",
       "  text-align: center;\n",
       "  /* unfitted */\n",
       "  border: var(--sklearn-color-unfitted-level-1) 1pt solid;\n",
       "  color: var(--sklearn-color-unfitted-level-1);\n",
       "}\n",
       "\n",
       ".sk-estimator-doc-link.fitted,\n",
       "a:link.sk-estimator-doc-link.fitted,\n",
       "a:visited.sk-estimator-doc-link.fitted {\n",
       "  /* fitted */\n",
       "  border: var(--sklearn-color-fitted-level-1) 1pt solid;\n",
       "  color: var(--sklearn-color-fitted-level-1);\n",
       "}\n",
       "\n",
       "/* On hover */\n",
       "div.sk-estimator:hover .sk-estimator-doc-link:hover,\n",
       ".sk-estimator-doc-link:hover,\n",
       "div.sk-label-container:hover .sk-estimator-doc-link:hover,\n",
       ".sk-estimator-doc-link:hover {\n",
       "  /* unfitted */\n",
       "  background-color: var(--sklearn-color-unfitted-level-3);\n",
       "  color: var(--sklearn-color-background);\n",
       "  text-decoration: none;\n",
       "}\n",
       "\n",
       "div.sk-estimator.fitted:hover .sk-estimator-doc-link.fitted:hover,\n",
       ".sk-estimator-doc-link.fitted:hover,\n",
       "div.sk-label-container:hover .sk-estimator-doc-link.fitted:hover,\n",
       ".sk-estimator-doc-link.fitted:hover {\n",
       "  /* fitted */\n",
       "  background-color: var(--sklearn-color-fitted-level-3);\n",
       "  color: var(--sklearn-color-background);\n",
       "  text-decoration: none;\n",
       "}\n",
       "\n",
       "/* Span, style for the box shown on hovering the info icon */\n",
       ".sk-estimator-doc-link span {\n",
       "  display: none;\n",
       "  z-index: 9999;\n",
       "  position: relative;\n",
       "  font-weight: normal;\n",
       "  right: .2ex;\n",
       "  padding: .5ex;\n",
       "  margin: .5ex;\n",
       "  width: min-content;\n",
       "  min-width: 20ex;\n",
       "  max-width: 50ex;\n",
       "  color: var(--sklearn-color-text);\n",
       "  box-shadow: 2pt 2pt 4pt #999;\n",
       "  /* unfitted */\n",
       "  background: var(--sklearn-color-unfitted-level-0);\n",
       "  border: .5pt solid var(--sklearn-color-unfitted-level-3);\n",
       "}\n",
       "\n",
       ".sk-estimator-doc-link.fitted span {\n",
       "  /* fitted */\n",
       "  background: var(--sklearn-color-fitted-level-0);\n",
       "  border: var(--sklearn-color-fitted-level-3);\n",
       "}\n",
       "\n",
       ".sk-estimator-doc-link:hover span {\n",
       "  display: block;\n",
       "}\n",
       "\n",
       "/* \"?\"-specific style due to the `<a>` HTML tag */\n",
       "\n",
       "#sk-container-id-1 a.estimator_doc_link {\n",
       "  float: right;\n",
       "  font-size: 1rem;\n",
       "  line-height: 1em;\n",
       "  font-family: monospace;\n",
       "  background-color: var(--sklearn-color-background);\n",
       "  border-radius: 1rem;\n",
       "  height: 1rem;\n",
       "  width: 1rem;\n",
       "  text-decoration: none;\n",
       "  /* unfitted */\n",
       "  color: var(--sklearn-color-unfitted-level-1);\n",
       "  border: var(--sklearn-color-unfitted-level-1) 1pt solid;\n",
       "}\n",
       "\n",
       "#sk-container-id-1 a.estimator_doc_link.fitted {\n",
       "  /* fitted */\n",
       "  border: var(--sklearn-color-fitted-level-1) 1pt solid;\n",
       "  color: var(--sklearn-color-fitted-level-1);\n",
       "}\n",
       "\n",
       "/* On hover */\n",
       "#sk-container-id-1 a.estimator_doc_link:hover {\n",
       "  /* unfitted */\n",
       "  background-color: var(--sklearn-color-unfitted-level-3);\n",
       "  color: var(--sklearn-color-background);\n",
       "  text-decoration: none;\n",
       "}\n",
       "\n",
       "#sk-container-id-1 a.estimator_doc_link.fitted:hover {\n",
       "  /* fitted */\n",
       "  background-color: var(--sklearn-color-fitted-level-3);\n",
       "}\n",
       "</style><div id=\"sk-container-id-1\" class=\"sk-top-container\"><div class=\"sk-text-repr-fallback\"><pre>Pipeline(steps=[(&#x27;standardscaler&#x27;, StandardScaler()),\n",
       "                (&#x27;logisticregression&#x27;, LogisticRegression(max_iter=1000))])</pre><b>In a Jupyter environment, please rerun this cell to show the HTML representation or trust the notebook. <br />On GitHub, the HTML representation is unable to render, please try loading this page with nbviewer.org.</b></div><div class=\"sk-container\" hidden><div class=\"sk-item sk-dashed-wrapped\"><div class=\"sk-label-container\"><div class=\"sk-label  sk-toggleable\"><input class=\"sk-toggleable__control sk-hidden--visually\" id=\"sk-estimator-id-1\" type=\"checkbox\" ><label for=\"sk-estimator-id-1\" class=\"sk-toggleable__label  sk-toggleable__label-arrow\"><div><div>Pipeline</div></div><div><a class=\"sk-estimator-doc-link \" rel=\"noreferrer\" target=\"_blank\" href=\"https://scikit-learn.org/1.6/modules/generated/sklearn.pipeline.Pipeline.html\">?<span>Documentation for Pipeline</span></a><span class=\"sk-estimator-doc-link \">i<span>Not fitted</span></span></div></label><div class=\"sk-toggleable__content \"><pre>Pipeline(steps=[(&#x27;standardscaler&#x27;, StandardScaler()),\n",
       "                (&#x27;logisticregression&#x27;, LogisticRegression(max_iter=1000))])</pre></div> </div></div><div class=\"sk-serial\"><div class=\"sk-item\"><div class=\"sk-estimator  sk-toggleable\"><input class=\"sk-toggleable__control sk-hidden--visually\" id=\"sk-estimator-id-2\" type=\"checkbox\" ><label for=\"sk-estimator-id-2\" class=\"sk-toggleable__label  sk-toggleable__label-arrow\"><div><div>StandardScaler</div></div><div><a class=\"sk-estimator-doc-link \" rel=\"noreferrer\" target=\"_blank\" href=\"https://scikit-learn.org/1.6/modules/generated/sklearn.preprocessing.StandardScaler.html\">?<span>Documentation for StandardScaler</span></a></div></label><div class=\"sk-toggleable__content \"><pre>StandardScaler()</pre></div> </div></div><div class=\"sk-item\"><div class=\"sk-estimator  sk-toggleable\"><input class=\"sk-toggleable__control sk-hidden--visually\" id=\"sk-estimator-id-3\" type=\"checkbox\" ><label for=\"sk-estimator-id-3\" class=\"sk-toggleable__label  sk-toggleable__label-arrow\"><div><div>LogisticRegression</div></div><div><a class=\"sk-estimator-doc-link \" rel=\"noreferrer\" target=\"_blank\" href=\"https://scikit-learn.org/1.6/modules/generated/sklearn.linear_model.LogisticRegression.html\">?<span>Documentation for LogisticRegression</span></a></div></label><div class=\"sk-toggleable__content \"><pre>LogisticRegression(max_iter=1000)</pre></div> </div></div></div></div></div></div>"
      ],
      "text/plain": [
       "Pipeline(steps=[('standardscaler', StandardScaler()),\n",
       "                ('logisticregression', LogisticRegression(max_iter=1000))])"
      ]
     },
     "execution_count": 20,
     "metadata": {},
     "output_type": "execute_result"
    }
   ],
   "source": [
    "classifier = make_pipeline(\n",
    "    StandardScaler(),\n",
    "    # PCA(n_components=200, random_state=RANDOM_STATE),\n",
    "    LogisticRegression(max_iter=1000),\n",
    ")\n",
    "classifier"
   ]
  },
  {
   "cell_type": "code",
   "execution_count": 21,
   "metadata": {},
   "outputs": [],
   "source": [
    "if \"pca\" in classifier.named_steps:\n",
    "    mlflow.log_param(\"pca_n_components\", classifier.named_steps[\"pca\"].get_params()[\"n_components\"])"
   ]
  },
  {
   "cell_type": "code",
   "execution_count": 22,
   "metadata": {},
   "outputs": [
    {
     "name": "stderr",
     "output_type": "stream",
     "text": [
      "/Users/vita/Code/demokratis/demokratis-ml/.venv/lib/python3.12/site-packages/sklearn/metrics/_classification.py:1565: UndefinedMetricWarning: Precision is ill-defined and being set to 0.0 in labels with no predicted samples. Use `zero_division` parameter to control this behavior.\n",
      "  _warn_prf(average, modifier, f\"{metric.capitalize()} is\", len(result))\n",
      "/Users/vita/Code/demokratis/demokratis-ml/.venv/lib/python3.12/site-packages/sklearn/metrics/_classification.py:1565: UndefinedMetricWarning: Precision is ill-defined and being set to 0.0 in labels with no predicted samples. Use `zero_division` parameter to control this behavior.\n",
      "  _warn_prf(average, modifier, f\"{metric.capitalize()} is\", len(result))\n",
      "/Users/vita/Code/demokratis/demokratis-ml/.venv/lib/python3.12/site-packages/sklearn/metrics/_classification.py:1565: UndefinedMetricWarning: Precision is ill-defined and being set to 0.0 in labels with no predicted samples. Use `zero_division` parameter to control this behavior.\n",
      "  _warn_prf(average, modifier, f\"{metric.capitalize()} is\", len(result))\n",
      "/Users/vita/Code/demokratis/demokratis-ml/.venv/lib/python3.12/site-packages/sklearn/metrics/_classification.py:1565: UndefinedMetricWarning: Precision is ill-defined and being set to 0.0 in labels with no predicted samples. Use `zero_division` parameter to control this behavior.\n",
      "  _warn_prf(average, modifier, f\"{metric.capitalize()} is\", len(result))\n"
     ]
    },
    {
     "data": {
      "text/plain": [
       "{'fit_time': array([1.35345197, 0.99302292, 0.93358898, 1.139956  , 0.91577888]),\n",
       " 'score_time': array([0.04863   , 0.02204704, 0.02182412, 0.02105498, 0.02156615]),\n",
       " 'test_precision': array([0.94604148, 0.95137891, 0.94749069, 0.95067906, 0.94861341]),\n",
       " 'test_recall': array([0.94957608, 0.95403838, 0.95046854, 0.95314592, 0.95046854]),\n",
       " 'test_f1': array([0.94739411, 0.95250867, 0.94856175, 0.95127688, 0.94939214]),\n",
       " 'test_pca_explained_variance': array([nan, nan, nan, nan, nan])}"
      ]
     },
     "execution_count": 22,
     "metadata": {},
     "output_type": "execute_result"
    }
   ],
   "source": [
    "def explained_variance_scorer(pipeline: Pipeline, X: Any, y: Any = None) -> np.float64:\n",
    "    try:\n",
    "        pca = pipeline.named_steps[\"pca\"]\n",
    "    except KeyError:\n",
    "        return np.nan\n",
    "    explained_variance = np.sum(pca.explained_variance_ratio_)\n",
    "    return explained_variance\n",
    "\n",
    "\n",
    "scoring = {\n",
    "    \"precision\": \"precision_weighted\",\n",
    "    \"recall\": \"recall_weighted\",\n",
    "    \"f1\": \"f1_weighted\",\n",
    "    \"pca_explained_variance\": explained_variance_scorer,\n",
    "}\n",
    "\n",
    "scores_docs = sklearn.model_selection.cross_validate(\n",
    "    classifier,\n",
    "    X=X_train,\n",
    "    y=y_train,\n",
    "    cv=cv_splitter,\n",
    "    scoring=scoring,\n",
    ")\n",
    "scores_docs"
   ]
  },
  {
   "cell_type": "markdown",
   "metadata": {},
   "source": [
    "## Evaluation of the cross-validation"
   ]
  },
  {
   "cell_type": "code",
   "execution_count": 23,
   "metadata": {},
   "outputs": [
    {
     "name": "stdout",
     "output_type": "stream",
     "text": [
      "Per-document CV scores:\n",
      "Precision: 0.9488 (+/- 0.0020)\n",
      "Recall:    0.9515 (+/- 0.0017)\n",
      "F1:        0.9498 (+/- 0.0018)\n"
     ]
    }
   ],
   "source": [
    "avg_scores_docs = {k: np.round(np.mean(v), 4) for k, v in scores_docs.items()}\n",
    "mlflow.log_metrics({f\"{k}_docs\": v for k, v in avg_scores_docs.items() if k.startswith(\"test_\")})\n",
    "\n",
    "print(\"Per-document CV scores:\")\n",
    "print(f\"Precision: {avg_scores_docs['test_precision']:.4f} (+/- {np.std(scores_docs['test_precision']):.4f})\")\n",
    "print(f\"Recall:    {avg_scores_docs['test_recall']:.4f} (+/- {np.std(scores_docs['test_recall']):.4f})\")\n",
    "print(f\"F1:        {avg_scores_docs['test_f1']:.4f} (+/- {np.std(scores_docs['test_f1']):.4f})\")"
   ]
  },
  {
   "cell_type": "markdown",
   "metadata": {},
   "source": [
    "### Use subsets of the training set to re-train and evaluate. This gives us a single model to run reports on. "
   ]
  },
  {
   "cell_type": "code",
   "execution_count": 24,
   "metadata": {},
   "outputs": [],
   "source": [
    "cv_test_splitter = sklearn.model_selection.StratifiedShuffleSplit(\n",
    "    n_splits=1,\n",
    "    test_size=TEST_SIZE,\n",
    "    random_state=RANDOM_STATE,\n",
    ")\n",
    "\n",
    "cv_train_index, cv_test_index = next(cv_test_splitter.split(X=X_train, y=y_train))\n",
    "\n",
    "X_cv_train = X_train[cv_train_index]\n",
    "y_cv_train = y_train.iloc[cv_train_index]\n",
    "X_cv_test = X_train[cv_test_index]\n",
    "y_cv_test = y_train.iloc[cv_test_index]"
   ]
  },
  {
   "cell_type": "code",
   "execution_count": 25,
   "metadata": {},
   "outputs": [
    {
     "name": "stderr",
     "output_type": "stream",
     "text": [
      "2025/01/08 15:08:57 WARNING mlflow.sklearn: Failed to log training dataset information to MLflow Tracking. Reason: 'Series' object has no attribute 'flatten'\n",
      "2025/01/08 15:09:01 WARNING mlflow.utils.environment: Failed to resolve installed pip version. ``pip`` will be added to conda.yaml environment spec without a version specifier.\n"
     ]
    }
   ],
   "source": [
    "classifier.fit(X_cv_train, y_cv_train)\n",
    "cv_test_predictions = classifier.predict(X_cv_test)"
   ]
  },
  {
   "cell_type": "code",
   "execution_count": 26,
   "metadata": {},
   "outputs": [
    {
     "name": "stderr",
     "output_type": "stream",
     "text": [
      "/Users/vita/Code/demokratis/demokratis-ml/.venv/lib/python3.12/site-packages/sklearn/metrics/_classification.py:1565: UndefinedMetricWarning: Precision is ill-defined and being set to 0.0 in labels with no predicted samples. Use `zero_division` parameter to control this behavior.\n",
      "  _warn_prf(average, modifier, f\"{metric.capitalize()} is\", len(result))\n",
      "/Users/vita/Code/demokratis/demokratis-ml/.venv/lib/python3.12/site-packages/sklearn/metrics/_classification.py:1565: UndefinedMetricWarning: Precision is ill-defined and being set to 0.0 in labels with no predicted samples. Use `zero_division` parameter to control this behavior.\n",
      "  _warn_prf(average, modifier, f\"{metric.capitalize()} is\", len(result))\n",
      "/Users/vita/Code/demokratis/demokratis-ml/.venv/lib/python3.12/site-packages/sklearn/metrics/_classification.py:1565: UndefinedMetricWarning: Precision is ill-defined and being set to 0.0 in labels with no predicted samples. Use `zero_division` parameter to control this behavior.\n",
      "  _warn_prf(average, modifier, f\"{metric.capitalize()} is\", len(result))\n"
     ]
    },
    {
     "name": "stdout",
     "output_type": "stream",
     "text": [
      "                precision    recall  f1-score   support\n",
      "\n",
      "         DRAFT       0.94      0.93      0.94       259\n",
      "  FINAL_REPORT       0.99      0.98      0.98       157\n",
      "        LETTER       0.99      1.00      0.99       221\n",
      "       OPINION       0.98      0.98      0.98        87\n",
      "RECIPIENT_LIST       1.00      1.00      1.00       158\n",
      "        REPORT       0.93      0.95      0.94       193\n",
      " RESPONSE_FORM       0.00      0.00      0.00         1\n",
      "        SURVEY       0.00      0.00      0.00         1\n",
      "SYNOPTIC_TABLE       0.00      0.00      0.00         7\n",
      "  VARIOUS_TEXT       0.62      0.62      0.62        37\n",
      "\n",
      "      accuracy                           0.95      1121\n",
      "     macro avg       0.64      0.65      0.65      1121\n",
      "  weighted avg       0.95      0.95      0.95      1121\n",
      "\n"
     ]
    },
    {
     "data": {
      "image/png": "[encoded data removed]",
      "text/plain": [
       "<Figure size 800x600 with 2 Axes>"
      ]
     },
     "metadata": {},
     "output_type": "display_data"
    }
   ],
   "source": [
    "target_names = y_encoder.categories_[0]\n",
    "print(\n",
    "    sklearn.metrics.classification_report(\n",
    "        y_cv_test,\n",
    "        cv_test_predictions,\n",
    "        target_names=target_names,\n",
    "        labels=range(len(target_names)),\n",
    "    )\n",
    ")\n",
    "\n",
    "display(plotting.plot_confusion_matrix_heatmap(y_cv_test, cv_test_predictions, target_names=target_names))"
   ]
  },
  {
   "cell_type": "markdown",
   "metadata": {},
   "source": [
    "***\n",
    "\n",
    "## Evaluation on the test set (USE SPARINGLY)"
   ]
  },
  {
   "cell_type": "code",
   "execution_count": 27,
   "metadata": {},
   "outputs": [
    {
     "name": "stderr",
     "output_type": "stream",
     "text": [
      "2025/01/08 15:09:02 WARNING mlflow.sklearn: Failed to log training dataset information to MLflow Tracking. Reason: 'Series' object has no attribute 'flatten'\n",
      "2025/01/08 15:09:05 WARNING mlflow.utils.environment: Failed to resolve installed pip version. ``pip`` will be added to conda.yaml environment spec without a version specifier.\n"
     ]
    },
    {
     "name": "stdout",
     "output_type": "stream",
     "text": [
      "docs: ground truth (1246,)\n",
      "docs: predictions (1246,)\n",
      "                precision    recall  f1-score   support\n",
      "\n",
      "         DRAFT       0.94      0.96      0.95       288\n",
      "  FINAL_REPORT       0.98      1.00      0.99       174\n",
      "        LETTER       1.00      1.00      1.00       245\n",
      "       OPINION       1.00      0.95      0.97        97\n",
      "RECIPIENT_LIST       0.99      1.00      1.00       176\n",
      "        REPORT       0.96      0.97      0.97       214\n",
      " RESPONSE_FORM       1.00      1.00      1.00         1\n",
      "        SURVEY       1.00      1.00      1.00         1\n",
      "SYNOPTIC_TABLE       0.40      0.25      0.31         8\n",
      "  VARIOUS_TEXT       0.65      0.57      0.61        42\n",
      "\n",
      "      accuracy                           0.96      1246\n",
      "     macro avg       0.89      0.87      0.88      1246\n",
      "  weighted avg       0.96      0.96      0.96      1246\n",
      "\n"
     ]
    }
   ],
   "source": [
    "if USE_TEST_SET:\n",
    "    classifier.fit(X_train, y_train)\n",
    "    test_ground_truth_docs = y_test\n",
    "    test_predictions_docs = classifier.predict(X_test)\n",
    "\n",
    "    print(\"docs: ground truth\", test_ground_truth_docs.shape)\n",
    "    print(\"docs: predictions\", test_predictions_docs.shape)\n",
    "\n",
    "    print(\n",
    "        sklearn.metrics.classification_report(\n",
    "            test_ground_truth_docs,\n",
    "            test_predictions_docs,\n",
    "            target_names=y_encoder.categories_[0],\n",
    "            labels=range(len(y_encoder.categories_[0])),\n",
    "        )\n",
    "    )"
   ]
  },
  {
   "cell_type": "code",
   "execution_count": 28,
   "metadata": {},
   "outputs": [
    {
     "data": {
      "image/png": "[encoded data removed]",
      "text/plain": [
       "<Figure size 800x600 with 2 Axes>"
      ]
     },
     "metadata": {},
     "output_type": "display_data"
    }
   ],
   "source": [
    "if USE_TEST_SET:\n",
    "    display(\n",
    "        plotting.plot_confusion_matrix_heatmap(\n",
    "            test_ground_truth_docs, test_predictions_docs, target_names=y_encoder.categories_[0]\n",
    "        )\n",
    "    )"
   ]
  },
  {
   "cell_type": "markdown",
   "metadata": {},
   "source": [
    "***"
   ]
  },
  {
   "cell_type": "markdown",
   "metadata": {},
   "source": [
    "# End MLflow run"
   ]
  },
  {
   "cell_type": "code",
   "execution_count": 29,
   "metadata": {},
   "outputs": [],
   "source": [
    "mlflow.end_run()"
   ]
  }
 ],
 "metadata": {
  "kernelspec": {
   "display_name": ".venv",
   "language": "python",
   "name": "python3"
  },
  "language_info": {
   "codemirror_mode": {
    "name": "ipython",
    "version": 3
   },
   "file_extension": ".py",
   "mimetype": "text/x-python",
   "name": "python",
   "nbconvert_exporter": "python",
   "pygments_lexer": "ipython3",
   "version": "3.12.1"
  }
 },
 "nbformat": 4,
 "nbformat_minor": 2
}
